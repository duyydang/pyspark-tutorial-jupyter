{
 "cells": [
  {
   "cell_type": "code",
   "execution_count": 1,
   "id": "fa5d9b05-130d-4ad7-9195-431243ba84a0",
   "metadata": {},
   "outputs": [],
   "source": [
    "from pyspark.sql import SparkSession\n",
    "from pyspark.sql.functions import desc"
   ]
  },
  {
   "cell_type": "code",
   "execution_count": 2,
   "id": "38790e6d-9808-49d4-a875-b280bf97962f",
   "metadata": {},
   "outputs": [],
   "source": [
    "spark = SparkSession.builder.appName(\"DataFrame-Demo\").getOrCreate()"
   ]
  },
  {
   "cell_type": "code",
   "execution_count": 5,
   "id": "240cbc68-9492-4e4a-b806-d8fff25f38df",
   "metadata": {},
   "outputs": [],
   "source": [
    "# Read CSV file into DataFrame"
   ]
  },
  {
   "cell_type": "code",
   "execution_count": 18,
   "id": "5c2a22a2-689c-41e4-9633-47aca0456fb0",
   "metadata": {
    "scrolled": true
   },
   "outputs": [],
   "source": [
    "df = spark.read.option(\"delimiter\",\";\").csv(\"./data.csv\",header=True,inferSchema=True)\n",
    "# option is used for ; in csv\n",
    "# inferSchema is automatic finds the correct schema"
   ]
  },
  {
   "cell_type": "code",
   "execution_count": 19,
   "id": "323cdeea-1869-4a68-af9f-d160a3fcf8f9",
   "metadata": {},
   "outputs": [
    {
     "name": "stdout",
     "output_type": "stream",
     "text": [
      "root\n",
      " |-- DistributorCode: integer (nullable = true)\n",
      " |-- BranchCode: string (nullable = true)\n",
      " |-- SupervisorCode: string (nullable = true)\n",
      " |-- SupervisorName: string (nullable = true)\n",
      " |-- SalesRepCode: string (nullable = true)\n",
      " |-- SalesRepName: string (nullable = true)\n",
      " |-- SellerType: string (nullable = true)\n",
      " |-- Gender: string (nullable = true)\n",
      " |-- Address: string (nullable = true)\n",
      " |-- Mobileno: string (nullable = true)\n",
      " |-- EmailID: string (nullable = true)\n",
      " |-- LoginID: string (nullable = true)\n",
      " |-- Password: string (nullable = true)\n",
      "\n",
      "+---------------+----------+--------------+--------------+------------+--------------------+----------+------+-------+--------+-------+---------------+--------+\n",
      "|DistributorCode|BranchCode|SupervisorCode|SupervisorName|SalesRepCode|        SalesRepName|SellerType|Gender|Address|Mobileno|EmailID|        LoginID|Password|\n",
      "+---------------+----------+--------------+--------------+------------+--------------------+----------+------+-------+--------+-------+---------------+--------+\n",
      "|     2001584413|     NGAN1|         HA.ND|NGUYEN DINH HA|       VSDL1|VSDL1-TRAN THI HA...|      NULL|  NULL|   NULL|    NULL|   NULL|DNANGNGAN1VSDL1|   vsdl1|\n",
      "|     2001584413|     NGAN1|         HA.ND|NGUYEN DINH HA|       VSDL2|  VSDL2-THAI DINH LY|      NULL|  NULL|   NULL|    NULL|   NULL|DNANGNGAN1VSDL2|   vsdl2|\n",
      "|     2001584413|     NGAN1|         HA.ND|NGUYEN DINH HA|       VSDL3|VSDL3-TRAN THI TU...|      NULL|  NULL|   NULL|    NULL|   NULL|DNANGNGAN1VSDL3|   vsdl3|\n",
      "|     2001584413|     NGAN1|         HA.ND|NGUYEN DINH HA|       VSDL4|VSDL4-THAI DINH TUAN|      NULL|  NULL|   NULL|    NULL|   NULL|DNANGNGAN1VSDL4|   vsdl4|\n",
      "|     2001584413|     NGAN1|         HA.ND|NGUYEN DINH HA|       VSDL5|VSDL5-NGUYEN THAI...|      NULL|  NULL|   NULL|    NULL|   NULL|DNANGNGAN1VSDL5|   vsdl5|\n",
      "+---------------+----------+--------------+--------------+------------+--------------------+----------+------+-------+--------+-------+---------------+--------+\n",
      "only showing top 5 rows\n",
      "\n"
     ]
    }
   ],
   "source": [
    "# Display schema of DataFrame\n",
    "df.printSchema()\n",
    "\n",
    "#Display content\n",
    "df.show(5)"
   ]
  },
  {
   "cell_type": "code",
   "execution_count": 39,
   "id": "f2b7bbc8-1f05-47bf-8b61-e347730e12e8",
   "metadata": {},
   "outputs": [
    {
     "name": "stdout",
     "output_type": "stream",
     "text": [
      "+----------+--------------------+\n",
      "|BranchCode|        SalesRepName|\n",
      "+----------+--------------------+\n",
      "|     NGAN1|VSDL1-TRAN THI HA...|\n",
      "|     NGAN1|  VSDL2-THAI DINH LY|\n",
      "|     NGAN1|VSDL3-TRAN THI TU...|\n",
      "|     NGAN1|VSDL4-THAI DINH TUAN|\n",
      "|     NGAN1|VSDL5-NGUYEN THAI...|\n",
      "|     NGAN1|VSDL7-NGUYEN CONG AU|\n",
      "|     NGAN1|VSDL8-NGUYEN THI ...|\n",
      "|     NGAN1|VS003-PHAN TIEN DUNG|\n",
      "|     NGAN1|VS005-NGUYEN VAN ...|\n",
      "|     NGAN1|VS006-NGUYEN HUU ...|\n",
      "+----------+--------------------+\n",
      "only showing top 10 rows\n",
      "\n"
     ]
    }
   ],
   "source": [
    "# Select: Choose specific column\n",
    "selected_column = df.select(\"BranchCode\",\"SalesRepName\")\n",
    "selected_column.show(10)"
   ]
  },
  {
   "cell_type": "code",
   "execution_count": 27,
   "id": "0a410a63-1d5e-4dda-9ab1-0212273d0987",
   "metadata": {},
   "outputs": [
    {
     "name": "stdout",
     "output_type": "stream",
     "text": [
      "+---------------+----------+--------------+----------------+------------+--------------------+----------+------+-------+--------+-------+---------------+--------+\n",
      "|DistributorCode|BranchCode|SupervisorCode|  SupervisorName|SalesRepCode|        SalesRepName|SellerType|Gender|Address|Mobileno|EmailID|        LoginID|Password|\n",
      "+---------------+----------+--------------+----------------+------------+--------------------+----------+------+-------+--------+-------+---------------+--------+\n",
      "|     2001584413|     NGAN1|       HUNG.NB| NGUYEN BUI HUNG|       VS003|VS003-PHAN TIEN DUNG|      NULL|  NULL|   NULL|    NULL|   NULL|DNANGNGAN1VS003|   vs003|\n",
      "|     2001584413|     NGAN1|       HUNG.NB| NGUYEN BUI HUNG|       VS005|VS005-NGUYEN VAN ...|      NULL|  NULL|   NULL|    NULL|   NULL|DNANGNGAN1VS005|   vs005|\n",
      "|     2001584413|     NGAN1|       HUNG.NB| NGUYEN BUI HUNG|       VS006|VS006-NGUYEN HUU ...|      NULL|  NULL|   NULL|    NULL|   NULL|DNANGNGAN1VS006|   vs006|\n",
      "|     2001584413|     NGAN1|       MINH.NN|NGUYEN NGOC MINH|       VS002|VS002-LE MINH SON...|      NULL|  NULL|   NULL|    NULL|   NULL|DNANGNGAN1VS002|   vs002|\n",
      "|     2001584413|     NGAN1|       MINH.NN|NGUYEN NGOC MINH|       VS007|VS007-NGUYEN HUY ...|      NULL|  NULL|   NULL|    NULL|   NULL|DNANGNGAN1VS007|   vs007|\n",
      "|     2001584413|     NGAN1|       MINH.NN|NGUYEN NGOC MINH|       VS008| VS008-TRAN VAN SINH|      NULL|  NULL|   NULL|    NULL|   NULL|DNANGNGAN1VS008|   vs008|\n",
      "|     2001584413|     NGAN1|       TUAN.NV| NGUYEN VAN TUAN|       VS001|VS001-CAO THI KIM...|      NULL|  NULL|   NULL|    NULL|   NULL|DNANGNGAN1VS001|   vs001|\n",
      "|     2001584413|     NGAN1|       TUAN.NV| NGUYEN VAN TUAN|       VS004|VS004-TRAN DINH TUAN|      NULL|  NULL|   NULL|    NULL|   NULL|DNANGNGAN1VS004|   vs004|\n",
      "|     2001584413|     NGAN1|       TUAN.NV| NGUYEN VAN TUAN|       VS009|VS009-VO THI THU ...|      NULL|  NULL|   NULL|    NULL|   NULL|DNANGNGAN1VS009|   vs009|\n",
      "+---------------+----------+--------------+----------------+------------+--------------------+----------+------+-------+--------+-------+---------------+--------+\n",
      "\n"
     ]
    }
   ],
   "source": [
    "# Filter row base on a condition\n",
    "filtered_data = df.filter(df.SalesRepCode.like(\"VS00%\"))\n",
    "filtered_data.show()"
   ]
  },
  {
   "cell_type": "code",
   "execution_count": 78,
   "id": "ce7e68fd-1204-4c28-8f08-b1c554142ebc",
   "metadata": {},
   "outputs": [
    {
     "name": "stdout",
     "output_type": "stream",
     "text": [
      "+--------------+-----+\n",
      "|SupervisorCode|Total|\n",
      "+--------------+-----+\n",
      "|       HUNG.NB|    6|\n",
      "|          NULL|    1|\n",
      "|       TUAN.NV|    6|\n",
      "|         HA.ND|    7|\n",
      "|       MINH.NN|    6|\n",
      "+--------------+-----+\n",
      "\n"
     ]
    }
   ],
   "source": [
    "# Group data by count, avg, sum\n",
    "# Rename columns for better readable\n",
    "grouped_data = df.groupBy(\"SupervisorCode\").agg({\"SalesRepCode\":\"count\"}) \\\n",
    "    .withColumnRenamed(\"count(SalesRepCode)\",\"Total\")\n",
    "grouped_data.show()"
   ]
  },
  {
   "cell_type": "code",
   "execution_count": 76,
   "id": "5bac66fc-3210-4084-91d1-b221faac3207",
   "metadata": {},
   "outputs": [
    {
     "name": "stdout",
     "output_type": "stream",
     "text": [
      "+--------------+-----+\n",
      "|SupervisorCode|Total|\n",
      "+--------------+-----+\n",
      "|         HA.ND|    7|\n",
      "|       HUNG.NB|    6|\n",
      "|       TUAN.NV|    6|\n",
      "|       MINH.NN|    6|\n",
      "|          NULL|    1|\n",
      "+--------------+-----+\n",
      "\n"
     ]
    }
   ],
   "source": [
    "# Sort by a column\n",
    "# Rename columns for better readable\n",
    "sorted_data = grouped_data.orderBy(\"count(SalesRepCode)\",ascending=False) \\\n",
    "    .withColumnRenamed(\"count(SalesRepCode)\",\"Total\")\n",
    "sorted_data.show()"
   ]
  },
  {
   "cell_type": "code",
   "execution_count": 79,
   "id": "b64ee727-4bbb-4a36-953f-5cfbd925d1ab",
   "metadata": {},
   "outputs": [
    {
     "name": "stdout",
     "output_type": "stream",
     "text": [
      "+--------------+-----+\n",
      "|SupervisorCode|Total|\n",
      "+--------------+-----+\n",
      "|         HA.ND|    7|\n",
      "|       TUAN.NV|    6|\n",
      "|       MINH.NN|    6|\n",
      "|       HUNG.NB|    6|\n",
      "|          NULL|    1|\n",
      "+--------------+-----+\n",
      "\n"
     ]
    }
   ],
   "source": [
    "# Sort by multiple columns\n",
    "from pyspark.sql.functions import col,desc\n",
    "sorted_datas = grouped_data.orderBy(col(\"count(SalesRepCode)\").desc(),col(\"SupervisorCode\").desc())\n",
    "sorted_datas.show()"
   ]
  },
  {
   "cell_type": "code",
   "execution_count": 50,
   "id": "38c19ecf-98df-4671-a139-8e065aa0a7ff",
   "metadata": {},
   "outputs": [
    {
     "name": "stdout",
     "output_type": "stream",
     "text": [
      "+----------+---------------+--------------+--------------+------------+--------------------+----------+------+-------+--------+-------+---------------+--------+--------------------+\n",
      "|BranchCode|DistributorCode|SupervisorCode|SupervisorName|SalesRepCode|        SalesRepName|SellerType|Gender|Address|Mobileno|EmailID|        LoginID|Password|        SalesRepName|\n",
      "+----------+---------------+--------------+--------------+------------+--------------------+----------+------+-------+--------+-------+---------------+--------+--------------------+\n",
      "|     NGAN1|     2001584413|         HA.ND|NGUYEN DINH HA|       VSDL1|VSDL1-TRAN THI HA...|      NULL|  NULL|   NULL|    NULL|   NULL|DNANGNGAN1VSDL1|   vsdl1|  VSDL2-THAI DINH LY|\n",
      "|     NGAN1|     2001584413|         HA.ND|NGUYEN DINH HA|       VSDL1|VSDL1-TRAN THI HA...|      NULL|  NULL|   NULL|    NULL|   NULL|DNANGNGAN1VSDL1|   vsdl1|VSDL1-TRAN THI HA...|\n",
      "|     NGAN1|     2001584413|         HA.ND|NGUYEN DINH HA|       VSDL2|  VSDL2-THAI DINH LY|      NULL|  NULL|   NULL|    NULL|   NULL|DNANGNGAN1VSDL2|   vsdl2|  VSDL2-THAI DINH LY|\n",
      "|     NGAN1|     2001584413|         HA.ND|NGUYEN DINH HA|       VSDL2|  VSDL2-THAI DINH LY|      NULL|  NULL|   NULL|    NULL|   NULL|DNANGNGAN1VSDL2|   vsdl2|VSDL1-TRAN THI HA...|\n",
      "|     NGAN1|     2001584413|         HA.ND|NGUYEN DINH HA|       VSDL3|VSDL3-TRAN THI TU...|      NULL|  NULL|   NULL|    NULL|   NULL|DNANGNGAN1VSDL3|   vsdl3|  VSDL2-THAI DINH LY|\n",
      "|     NGAN1|     2001584413|         HA.ND|NGUYEN DINH HA|       VSDL3|VSDL3-TRAN THI TU...|      NULL|  NULL|   NULL|    NULL|   NULL|DNANGNGAN1VSDL3|   vsdl3|VSDL1-TRAN THI HA...|\n",
      "+----------+---------------+--------------+--------------+------------+--------------------+----------+------+-------+--------+-------+---------------+--------+--------------------+\n",
      "\n"
     ]
    }
   ],
   "source": [
    "# Create a new df2 and join with df\n",
    "df2 = df.select(\"BranchCode\",\"SalesRepName\").limit(2)\n",
    "\n",
    "joined_data = df.limit(3).join(df2,\"BranchCode\")\n",
    "joined_data.show()"
   ]
  },
  {
   "cell_type": "code",
   "execution_count": 63,
   "id": "5ea7189f-7de3-4429-9797-0ffc1fe87552",
   "metadata": {},
   "outputs": [
    {
     "name": "stdout",
     "output_type": "stream",
     "text": [
      "+--------------+\n",
      "|SupervisorCode|\n",
      "+--------------+\n",
      "|       HUNG.NB|\n",
      "|       TUAN.NV|\n",
      "|         HA.ND|\n",
      "|       MINH.NN|\n",
      "|          NULL|\n",
      "+--------------+\n",
      "\n"
     ]
    }
   ],
   "source": [
    "# Get distinct SupervisorCode\n",
    "distinct_rows = df.select(\"SupervisorCode\").distinct()\n",
    "distinct_rows.show()"
   ]
  },
  {
   "cell_type": "code",
   "execution_count": 66,
   "id": "75eac1f8-1e5f-4735-a8a6-ca7819faa91b",
   "metadata": {},
   "outputs": [
    {
     "name": "stdout",
     "output_type": "stream",
     "text": [
      "+---------------+----------+--------------+---------------+------------+--------------------+---------------+--------+\n",
      "|DistributorCode|BranchCode|SupervisorCode| SupervisorName|SalesRepCode|        SalesRepName|        LoginID|Password|\n",
      "+---------------+----------+--------------+---------------+------------+--------------------+---------------+--------+\n",
      "|     2001584413|     NGAN1|         HA.ND| NGUYEN DINH HA|       VSDL1|VSDL1-TRAN THI HA...|DNANGNGAN1VSDL1|   vsdl1|\n",
      "|     2001584413|     NGAN1|         HA.ND| NGUYEN DINH HA|       VSDL2|  VSDL2-THAI DINH LY|DNANGNGAN1VSDL2|   vsdl2|\n",
      "|     2001584413|     NGAN1|         HA.ND| NGUYEN DINH HA|       VSDL3|VSDL3-TRAN THI TU...|DNANGNGAN1VSDL3|   vsdl3|\n",
      "|     2001584413|     NGAN1|         HA.ND| NGUYEN DINH HA|       VSDL4|VSDL4-THAI DINH TUAN|DNANGNGAN1VSDL4|   vsdl4|\n",
      "|     2001584413|     NGAN1|         HA.ND| NGUYEN DINH HA|       VSDL5|VSDL5-NGUYEN THAI...|DNANGNGAN1VSDL5|   vsdl5|\n",
      "|     2001584413|     NGAN1|         HA.ND| NGUYEN DINH HA|       VSDL7|VSDL7-NGUYEN CONG AU|DNANGNGAN1VSDL7|   vsdl7|\n",
      "|     2001584413|     NGAN1|         HA.ND| NGUYEN DINH HA|       VSDL8|VSDL8-NGUYEN THI ...|DNANGNGAN1VSDL8|   vsdl8|\n",
      "|     2001584413|     NGAN1|       HUNG.NB|NGUYEN BUI HUNG|       VS003|VS003-PHAN TIEN DUNG|DNANGNGAN1VS003|   vs003|\n",
      "|     2001584413|     NGAN1|       HUNG.NB|NGUYEN BUI HUNG|       VS005|VS005-NGUYEN VAN ...|DNANGNGAN1VS005|   vs005|\n",
      "|     2001584413|     NGAN1|       HUNG.NB|NGUYEN BUI HUNG|       VS006|VS006-NGUYEN HUU ...|DNANGNGAN1VS006|   vs006|\n",
      "+---------------+----------+--------------+---------------+------------+--------------------+---------------+--------+\n",
      "only showing top 10 rows\n",
      "\n"
     ]
    }
   ],
   "source": [
    "# Drop: Remove specified columns\n",
    "dropped_columns = df.drop(\"SellerType\",\"Gender\",\"Address\",\"Mobileno\",\"EmailID\")\n",
    "dropped_columns.show(10)"
   ]
  },
  {
   "cell_type": "code",
   "execution_count": 75,
   "id": "7049df39-e7cb-4c7d-9101-7304a7e9cbaa",
   "metadata": {},
   "outputs": [
    {
     "name": "stdout",
     "output_type": "stream",
     "text": [
      "+---------------+----------+--------------+----------------+------------+--------------------+---------------+--------+--------------------+\n",
      "|DistributorCode|BranchCode|SupervisorCode|  SupervisorName|SalesRepCode|        SalesRepName|        LoginID|Password|           Full Info|\n",
      "+---------------+----------+--------------+----------------+------------+--------------------+---------------+--------+--------------------+\n",
      "|     2001584413|     NGAN1|         HA.ND|  NGUYEN DINH HA|       VSDL1|VSDL1-TRAN THI HA...|DNANGNGAN1VSDL1|   vsdl1|HA.ND-NGUYEN DINH HA|\n",
      "|     2001584413|     NGAN1|         HA.ND|  NGUYEN DINH HA|       VSDL2|  VSDL2-THAI DINH LY|DNANGNGAN1VSDL2|   vsdl2|HA.ND-NGUYEN DINH HA|\n",
      "|     2001584413|     NGAN1|         HA.ND|  NGUYEN DINH HA|       VSDL3|VSDL3-TRAN THI TU...|DNANGNGAN1VSDL3|   vsdl3|HA.ND-NGUYEN DINH HA|\n",
      "|     2001584413|     NGAN1|         HA.ND|  NGUYEN DINH HA|       VSDL4|VSDL4-THAI DINH TUAN|DNANGNGAN1VSDL4|   vsdl4|HA.ND-NGUYEN DINH HA|\n",
      "|     2001584413|     NGAN1|         HA.ND|  NGUYEN DINH HA|       VSDL5|VSDL5-NGUYEN THAI...|DNANGNGAN1VSDL5|   vsdl5|HA.ND-NGUYEN DINH HA|\n",
      "|     2001584413|     NGAN1|         HA.ND|  NGUYEN DINH HA|       VSDL7|VSDL7-NGUYEN CONG AU|DNANGNGAN1VSDL7|   vsdl7|HA.ND-NGUYEN DINH HA|\n",
      "|     2001584413|     NGAN1|         HA.ND|  NGUYEN DINH HA|       VSDL8|VSDL8-NGUYEN THI ...|DNANGNGAN1VSDL8|   vsdl8|HA.ND-NGUYEN DINH HA|\n",
      "|     2001584413|     NGAN1|       HUNG.NB| NGUYEN BUI HUNG|       VS003|VS003-PHAN TIEN DUNG|DNANGNGAN1VS003|   vs003|HUNG.NB-NGUYEN BU...|\n",
      "|     2001584413|     NGAN1|       HUNG.NB| NGUYEN BUI HUNG|       VS005|VS005-NGUYEN VAN ...|DNANGNGAN1VS005|   vs005|HUNG.NB-NGUYEN BU...|\n",
      "|     2001584413|     NGAN1|       HUNG.NB| NGUYEN BUI HUNG|       VS006|VS006-NGUYEN HUU ...|DNANGNGAN1VS006|   vs006|HUNG.NB-NGUYEN BU...|\n",
      "|     2001584413|     NGAN1|       HUNG.NB| NGUYEN BUI HUNG|       VS010| VS010-NGUYEN THI HA|DNANGNGAN1VS010|  vs010 |HUNG.NB-NGUYEN BU...|\n",
      "|     2001584413|     NGAN1|       HUNG.NB| NGUYEN BUI HUNG|       VS015|VS015-PHAN THI TU...|DNANGNGAN1VS015|   vs015|HUNG.NB-NGUYEN BU...|\n",
      "|     2001584413|     NGAN1|       HUNG.NB| NGUYEN BUI HUNG|       VS018|       VS018-DSR NEW|DNANGNGAN1VS018|   vs018|HUNG.NB-NGUYEN BU...|\n",
      "|     2001584413|     NGAN1|       MINH.NN|NGUYEN NGOC MINH|       VS002|VS002-LE MINH SON...|DNANGNGAN1VS002|   vs002|MINH.NN-NGUYEN NG...|\n",
      "|     2001584413|     NGAN1|       MINH.NN|NGUYEN NGOC MINH|       VS007|VS007-NGUYEN HUY ...|DNANGNGAN1VS007|   vs007|MINH.NN-NGUYEN NG...|\n",
      "|     2001584413|     NGAN1|       MINH.NN|NGUYEN NGOC MINH|       VS008| VS008-TRAN VAN SINH|DNANGNGAN1VS008|   vs008|MINH.NN-NGUYEN NG...|\n",
      "|     2001584413|     NGAN1|       MINH.NN|NGUYEN NGOC MINH|       VS011|  VS011-LUU VAN MANH|DNANGNGAN1VS011|   vs011|MINH.NN-NGUYEN NG...|\n",
      "|     2001584413|     NGAN1|       MINH.NN|NGUYEN NGOC MINH|       VS017|VS017-PHAM DINH T...|DNANGNGAN1VS017|   vs017|MINH.NN-NGUYEN NG...|\n",
      "|     2001584413|     NGAN1|       MINH.NN|NGUYEN NGOC MINH|       VS039|VS039-DANG THI QU...|DNANGNGAN1VS039|  vs039S|MINH.NN-NGUYEN NG...|\n",
      "|     2001584413|     NGAN1|       TUAN.NV| NGUYEN VAN TUAN|       VS001|VS001-CAO THI KIM...|DNANGNGAN1VS001|   vs001|TUAN.NV-NGUYEN VA...|\n",
      "+---------------+----------+--------------+----------------+------------+--------------------+---------------+--------+--------------------+\n",
      "only showing top 20 rows\n",
      "\n"
     ]
    }
   ],
   "source": [
    "# WithColumn: Add new calculated columns\n",
    "from pyspark.sql.functions import concat, lit\n",
    "# concat is concatenating 2 columns. The lit function adds a literal space between the two concatenated columns.\n",
    "df_with_new_column = dropped_columns.withColumn(\"Full Info\", concat(col(\"SupervisorCode\"), lit(\" \"), col(\"SupervisorName\")))\n",
    "df_with_new_column.show()"
   ]
  }
 ],
 "metadata": {
  "kernelspec": {
   "display_name": "Python 3 (ipykernel)",
   "language": "python",
   "name": "python3"
  },
  "language_info": {
   "codemirror_mode": {
    "name": "ipython",
    "version": 3
   },
   "file_extension": ".py",
   "mimetype": "text/x-python",
   "name": "python",
   "nbconvert_exporter": "python",
   "pygments_lexer": "ipython3",
   "version": "3.9.6"
  }
 },
 "nbformat": 4,
 "nbformat_minor": 5
}
