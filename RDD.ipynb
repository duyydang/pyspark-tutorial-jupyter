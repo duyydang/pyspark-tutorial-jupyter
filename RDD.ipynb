{
 "cells": [
  {
   "cell_type": "code",
   "execution_count": 15,
   "id": "401c7764-0827-4ec3-9ec1-f9aefff99145",
   "metadata": {},
   "outputs": [],
   "source": [
    "from pyspark.sql import SparkSession\n",
    "\n",
    "spark = SparkSession.builder \\\n",
    "    .appName(\"TestSpark\") \\\n",
    "    .getOrCreate()"
   ]
  },
  {
   "cell_type": "code",
   "execution_count": 16,
   "id": "8f32ba27-018d-4423-90ef-a3ab4c28feeb",
   "metadata": {},
   "outputs": [],
   "source": [
    "numbers = [('Bob',25),('Dang',26),('Ngoc Anh',25),('Mai',17),('Dang',26)]\n",
    "rdd = spark.sparkContext.parallelize(numbers)"
   ]
  },
  {
   "cell_type": "code",
   "execution_count": null,
   "id": "229ea2d3-27ad-4b22-ace1-aad6014af8d2",
   "metadata": {},
   "outputs": [],
   "source": []
  },
  {
   "cell_type": "code",
   "execution_count": 17,
   "id": "4535c1e1-e49c-4c75-a2ba-9b6cc9b812b5",
   "metadata": {},
   "outputs": [],
   "source": [
    "#RRDs Action"
   ]
  },
  {
   "cell_type": "code",
   "execution_count": 18,
   "id": "fe606d5e-3511-4b73-b256-048425357edf",
   "metadata": {},
   "outputs": [
    {
     "data": {
      "text/plain": [
       "[('Bob', 25), ('Dang', 26), ('Ngoc Anh', 25), ('Mai', 17), ('Dang', 26)]"
      ]
     },
     "execution_count": 18,
     "metadata": {},
     "output_type": "execute_result"
    }
   ],
   "source": [
    "rdd.collect()"
   ]
  },
  {
   "cell_type": "code",
   "execution_count": 19,
   "id": "a10ebda9-01f5-407a-9288-d33dda441448",
   "metadata": {},
   "outputs": [
    {
     "name": "stdout",
     "output_type": "stream",
     "text": [
      "Total Number:  5\n"
     ]
    }
   ],
   "source": [
    "# Count action\n",
    "count = rdd.count()\n",
    "print('Total Number: ',count)"
   ]
  },
  {
   "cell_type": "code",
   "execution_count": 20,
   "id": "5cd53fdc-cee7-47b2-8c60-2c9b59ecd865",
   "metadata": {},
   "outputs": [
    {
     "name": "stdout",
     "output_type": "stream",
     "text": [
      "The first element is:  ('Bob', 25)\n"
     ]
    }
   ],
   "source": [
    "#First action: Retrieve the first element\n",
    "first_element = rdd.first()\n",
    "print('The first element is: ',first_element)"
   ]
  },
  {
   "cell_type": "code",
   "execution_count": 21,
   "id": "22dc3479-e9d8-4016-b94e-faa625e93f22",
   "metadata": {},
   "outputs": [
    {
     "name": "stdout",
     "output_type": "stream",
     "text": [
      "The first two elements are:  [('Bob', 25), ('Dang', 26)]\n"
     ]
    }
   ],
   "source": [
    "#Take action: Retrieve n element\n",
    "taken_element = rdd.take(2)\n",
    "print('The first two elements are: ',taken_element)"
   ]
  },
  {
   "cell_type": "code",
   "execution_count": null,
   "id": "872014f2-8699-4cc1-abe0-9914c4991379",
   "metadata": {},
   "outputs": [],
   "source": []
  },
  {
   "cell_type": "code",
   "execution_count": 22,
   "id": "81b0040d-f877-4b03-a54f-676fdb634f4e",
   "metadata": {
    "scrolled": true
   },
   "outputs": [],
   "source": [
    "#RDD Transformation"
   ]
  },
  {
   "cell_type": "code",
   "execution_count": 23,
   "id": "619a8f69-d652-4d9c-bd30-7148c4494009",
   "metadata": {},
   "outputs": [
    {
     "data": {
      "text/plain": [
       "[('BOB', 25), ('DANG', 26), ('NGOC ANH', 25), ('MAI', 17), ('DANG', 26)]"
      ]
     },
     "execution_count": 23,
     "metadata": {},
     "output_type": "execute_result"
    }
   ],
   "source": [
    "# Map transformation: Convert name to uppercase\n",
    "mapped_rdd = rdd.map(lambda x: (x[0].upper(),x[1]))\n",
    "mapped_rdd.collect()"
   ]
  },
  {
   "cell_type": "code",
   "execution_count": 24,
   "id": "bdf58198-c6f7-49fb-a72c-4b083d35c1de",
   "metadata": {},
   "outputs": [
    {
     "data": {
      "text/plain": [
       "[('Bob', 25), ('Dang', 26), ('Ngoc Anh', 25), ('Dang', 26)]"
      ]
     },
     "execution_count": 24,
     "metadata": {},
     "output_type": "execute_result"
    }
   ],
   "source": [
    "# Filter transformation: filter records where age is greater than 25\n",
    "filtered_rdd = rdd.filter(lambda x: x[1]>20)\n",
    "filtered_rdd.collect()"
   ]
  },
  {
   "cell_type": "code",
   "execution_count": 25,
   "id": "cc460c96-63f8-49e6-936d-3eada295092a",
   "metadata": {},
   "outputs": [
    {
     "data": {
      "text/plain": [
       "[('Dang', 52), ('Mai', 17), ('Bob', 25), ('Ngoc Anh', 25)]"
      ]
     },
     "execution_count": 25,
     "metadata": {},
     "output_type": "execute_result"
    }
   ],
   "source": [
    "# ReduceByKey transformation: Calculate the total age for each name\n",
    "reduced_rdd = rdd.reduceByKey(lambda x,y: x+y)\n",
    "reduced_rdd.collect()"
   ]
  },
  {
   "cell_type": "code",
   "execution_count": 26,
   "id": "b6ad17f5-1a09-4c38-b086-5e6ff0801291",
   "metadata": {},
   "outputs": [
    {
     "data": {
      "text/plain": [
       "[('Dang', 26), ('Dang', 26), ('Bob', 25), ('Ngoc Anh', 25), ('Mai', 17)]"
      ]
     },
     "execution_count": 26,
     "metadata": {},
     "output_type": "execute_result"
    }
   ],
   "source": [
    "# SortBy transformation: Sort the RDD by age in descending order\n",
    "sorted_rdd = rdd.sortBy(lambda x: x[1], ascending=False)\n",
    "sorted_rdd.collect()"
   ]
  },
  {
   "cell_type": "code",
   "execution_count": null,
   "id": "bd5114c2-24be-4607-96b9-25ff09b62a87",
   "metadata": {},
   "outputs": [],
   "source": []
  },
  {
   "cell_type": "code",
   "execution_count": 27,
   "id": "e8e8a865-8f05-4917-9c55-be0e5fae1b66",
   "metadata": {},
   "outputs": [],
   "source": [
    "# Save RDDs to text file and red RDDs from text file"
   ]
  },
  {
   "cell_type": "code",
   "execution_count": null,
   "id": "5959a60f-7a94-4b6b-889d-af83baa37722",
   "metadata": {},
   "outputs": [],
   "source": [
    "# Save action: Save the RDD to a text file\n",
    "rdd.saveAsTextFile('output.txt')"
   ]
  },
  {
   "cell_type": "code",
   "execution_count": null,
   "id": "b650f6a9-f113-4c7f-a7af-e3eaf42d3dc5",
   "metadata": {},
   "outputs": [],
   "source": [
    "# Create RDD from a text file\n",
    "rdd_text = spark.sparkContext.textFile('output.txt')\n",
    "rdd.collect()"
   ]
  },
  {
   "cell_type": "code",
   "execution_count": null,
   "id": "0d4bd354-9e37-4898-afef-ffc956d2d62b",
   "metadata": {},
   "outputs": [],
   "source": []
  },
  {
   "cell_type": "code",
   "execution_count": null,
   "id": "e41df02f-d05f-406e-80db-3a3a4dad3bf4",
   "metadata": {},
   "outputs": [],
   "source": [
    "#Using DataFrames"
   ]
  }
 ],
 "metadata": {
  "kernelspec": {
   "display_name": "Python 3 (ipykernel)",
   "language": "python",
   "name": "python3"
  },
  "language_info": {
   "codemirror_mode": {
    "name": "ipython",
    "version": 3
   },
   "file_extension": ".py",
   "mimetype": "text/x-python",
   "name": "python",
   "nbconvert_exporter": "python",
   "pygments_lexer": "ipython3",
   "version": "3.9.6"
  }
 },
 "nbformat": 4,
 "nbformat_minor": 5
}
